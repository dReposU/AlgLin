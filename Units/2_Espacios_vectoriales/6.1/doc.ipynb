{
 "cells": [
  {
   "cell_type": "markdown",
   "id": "3f43c6ec",
   "metadata": {},
   "source": [
    "# Replicating a specific use case of Pick of WL"
   ]
  },
  {
   "cell_type": "markdown",
   "id": "fa16bdfe",
   "metadata": {},
   "source": [
    "+ [Zip](https://docs.python.org/3/library/functions.html#zip)\n",
    "+ [List of comprehensions](https://docs.python.org/3/tutorial/datastructures.html#list-comprehensions)"
   ]
  },
  {
   "cell_type": "code",
   "execution_count": 3,
   "id": "30370df2",
   "metadata": {},
   "outputs": [
    {
     "name": "stdout",
     "output_type": "stream",
     "text": [
      "['z']\n"
     ]
    }
   ],
   "source": [
    "def Pick_in_py(lst, sel, patt=lambda x: x):\n",
    "    return [val for val, cond in zip(lst, sel) if patt(cond)]\n",
    "\n",
    "vars = [\"x\", \"y\", \"z\"]\n",
    "coeffs = [0, 0, 1]\n",
    "\n",
    "ans = Pick_in_py(vars, coeffs, lambda x: x != 0)\n",
    "print(ans)  # Output: ['z']"
   ]
  },
  {
   "cell_type": "code",
   "execution_count": 4,
   "id": "f33f5647",
   "metadata": {},
   "outputs": [
    {
     "name": "stdout",
     "output_type": "stream",
     "text": [
      "['z']\n"
     ]
    }
   ],
   "source": [
    "def Pick_in_py_expanded(lst, sel, patt=lambda x: x):\n",
    "    result = []\n",
    "    for val, cond in zip(lst, sel):\n",
    "        if patt(cond):\n",
    "            result.append(val)\n",
    "    return result\n",
    "\n",
    "ans_expanded = Pick_in_py_expanded(vars, coeffs, lambda x: x != 0)\n",
    "print(ans_expanded)  # Output: ['z']"
   ]
  }
 ],
 "metadata": {
  "kernelspec": {
   "display_name": "Python 3",
   "language": "python",
   "name": "python3"
  },
  "language_info": {
   "codemirror_mode": {
    "name": "ipython",
    "version": 3
   },
   "file_extension": ".py",
   "mimetype": "text/x-python",
   "name": "python",
   "nbconvert_exporter": "python",
   "pygments_lexer": "ipython3",
   "version": "3.12.6"
  }
 },
 "nbformat": 4,
 "nbformat_minor": 5
}
